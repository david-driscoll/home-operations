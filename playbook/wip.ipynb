{
 "cells": [
  {
   "cell_type": "code",
   "execution_count": null,
   "id": "18bd42b7",
   "metadata": {
    "language_info": {
     "name": "polyglot-notebook"
    },
    "polyglot_notebook": {
     "kernelName": "pwsh"
    }
   },
   "outputs": [],
   "source": [
    "flux delete kustomization plex -n equestria --silent\n",
    "flux delete kustomization sonarr -n equestria --silent\n",
    "flux delete kustomization radarr -n equestria --silent\n",
    "flux delete kustomization prowlarr -n equestria --silent\n",
    "flux delete kustomization jellyfin -n equestria --silent\n",
    "flux delete kustomization tautulli -n equestria --silent\n",
    "flux delete kustomization immich -n equestria --silent\n",
    "\n",
    "flux reconcile source git flux-system\n",
    "flux reconcile kustomization cluster-apps -n flux-system\n",
    "\n"
   ]
  }
 ],
 "metadata": {
  "kernelspec": {
   "display_name": ".NET (C#)",
   "language": "C#",
   "name": ".net-csharp"
  },
  "language_info": {
   "name": "polyglot-notebook"
  },
  "polyglot_notebook": {
   "kernelInfo": {
    "defaultKernelName": "csharp",
    "items": [
     {
      "aliases": [],
      "name": "csharp"
     },
     {
      "aliases": [],
      "languageName": "pwsh",
      "name": "pwsh"
     }
    ]
   }
  }
 },
 "nbformat": 4,
 "nbformat_minor": 5
}
