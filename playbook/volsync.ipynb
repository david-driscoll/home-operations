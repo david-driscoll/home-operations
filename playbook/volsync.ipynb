{
 "cells": [
  {
   "cell_type": "code",
   "execution_count": 14,
   "metadata": {
    "language_info": {
     "name": "polyglot-notebook"
    },
    "polyglot_notebook": {
     "kernelName": "pwsh"
    }
   },
   "outputs": [
    {
     "name": "stdout",
     "output_type": "stream",
     "text": [
      "total 239\n",
      "drwxrwxrwx 29 apps apps 29 Sep  3 20:54 .\n",
      "drwxrwxrwx  4 apps apps  4 Jul 16 18:41 ..\n",
      "drwxrwxrwx  7 apps apps  8 Jul 28 10:24 authentik\n",
      "drwxrwxrwx  7 apps apps  8 Jul 30 13:10 authentik-apps\n",
      "drwxrwxrwx  7 apps apps  8 Jul 27 09:48 autokuma\n",
      "drwxrwxrwx  7 apps apps  8 Jul 26 10:06 backrest\n",
      "drwxrwxrwx  7 apps apps  8 Jul 17 21:03 data-adguard-home-0\n",
      "drwxrwxrwx  7 apps apps  8 Jul 16 19:30 data-adguard-home-1\n",
      "drwxrwxrwx  7 apps apps  8 Jul 16 19:30 data-adguard-home-2\n",
      "drwxrwxrwx  7 apps apps  8 Aug  7 07:56 golink\n",
      "drwxrwxrwx  7 apps apps  8 Aug 24 17:57 grafana\n",
      "drwxrwxrwx  7 apps apps  8 Jul 16 19:31 homarr\n",
      "drwxrwxrwx  7 apps apps  8 Jul 16 19:29 home-assistant\n",
      "drwxrwxrwx  7 apps apps  8 Aug  7 07:56 idp\n",
      "drwxrwxrwx  7 apps apps  8 Aug 24 17:58 loki\n",
      "drwxrwxrwx  7 apps apps  8 Jul 16 19:30 matter\n",
      "drwxrwxrwx  7 apps apps  8 Jul 16 19:30 network-ups-tools\n",
      "drwxrwxrwx  7 apps apps  8 Aug  2 18:28 nut\n",
      "drwxrwxrwx  7 apps apps  8 Jul 16 20:05 pgadmin\n",
      "drwxrwxrwx  7 apps apps  8 Jul 25 19:57 plex\n",
      "drwxrwxrwx  7 apps apps  8 Sep  3 20:55 registry\n",
      "drwxrwxrwx  7 apps apps  8 Sep  1 14:49 registry-mirrors\n",
      "drwxrwxrwx  7 apps apps  8 Jul 22 13:03 storage-s3\n",
      "drwxrwxrwx  7 apps apps  8 Jul 16 19:31 tailscale-apps\n",
      "drwxrwxrwx  7 apps apps  8 Aug  7 06:26 tailscale-golink\n",
      "drwxrwxrwx  7 apps apps  8 Jul 31 22:21 tailscale-idp\n",
      "drwxrwxrwx  7 apps apps  8 Jul 25 20:03 tautulli\n",
      "drwxrwxrwx  7 apps apps  8 Jul 27 09:46 uptime-kuma\n",
      "drwxrwxrwx  7 apps apps  8 Jul 27 10:05 vikunja\n"
     ]
    }
   ],
   "source": [
    "$cluster = 'sgc'\n",
    "$sshCommand = \"ls -al /mnt/stash/backup/$cluster/volsync\"\n",
    "$remoteHost = 'truenas.driscoll.tech'\n",
    "\n",
    "& ssh root@$remoteHost \"$sshCommand\""
   ]
  },
  {
   "cell_type": "code",
   "execution_count": 21,
   "id": "4e96e14d",
   "metadata": {
    "language_info": {
     "name": "polyglot-notebook"
    },
    "polyglot_notebook": {
     "kernelName": "pwsh"
    }
   },
   "outputs": [
    {
     "name": "stdout",
     "output_type": "stream",
     "text": [
      "successfully removed 1 locks\n"
     ]
    }
   ],
   "source": [
    "$volume = 'home-assistant'\n",
    "$cluster = 'sgc'\n",
    "\n",
    "$sshCommand = \"restic unlock -r /mnt/stash/backup/$cluster/volsync/$volume -p ~/restic-pw\"\n",
    "$remoteHost = 'truenas.driscoll.tech'\n",
    "\n",
    "& ssh root@$remoteHost \"$sshCommand\"\n"
   ]
  },
  {
   "cell_type": "code",
   "execution_count": null,
   "metadata": {
    "language_info": {
     "name": "polyglot-notebook"
    },
    "polyglot_notebook": {
     "kernelName": "pwsh"
    }
   },
   "outputs": [],
   "source": []
  }
 ],
 "metadata": {
  "kernelspec": {
   "display_name": ".NET (PowerShell)",
   "language": "PowerShell",
   "name": ".net-pwsh"
  },
  "language_info": {
   "name": "polyglot-notebook"
  },
  "polyglot_notebook": {
   "kernelInfo": {
    "defaultKernelName": "pwsh",
    "items": [
     {
      "aliases": [],
      "languageName": "pwsh",
      "name": "pwsh"
     }
    ]
   }
  }
 },
 "nbformat": 4,
 "nbformat_minor": 5
}
